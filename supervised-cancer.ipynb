{
 "cells": [
  {
   "cell_type": "markdown",
   "metadata": {},
   "source": [
    "# Supervised-Wisconsin Diagnostic Breast Cancer (WDBC)\n",
    "\n",
    "Diagnostico de cancer de piel a partir de descriptores obtenidos de imagenes de manchas y lunares\n",
    "\n",
    "http://archive.ics.uci.edu/ml/datasets/Breast+Cancer+Wisconsin+%28Diagnostic%29\n",
    "\n",
    "---\n",
    "## Imports"
   ]
  },
  {
   "cell_type": "code",
   "execution_count": 4,
   "metadata": {
    "collapsed": true
   },
   "outputs": [],
   "source": [
    "import numpy as np\n",
    "from sklearn.model_selection import train_test_split"
   ]
  },
  {
   "cell_type": "markdown",
   "metadata": {},
   "source": [
    "## cargar BD y labels"
   ]
  },
  {
   "cell_type": "code",
   "execution_count": 11,
   "metadata": {
    "collapsed": false
   },
   "outputs": [
    {
     "name": "stdout",
     "output_type": "stream",
     "text": [
      "(448, 30) (112, 30)\n"
     ]
    }
   ],
   "source": [
    "X_train=np.loadtxt('data_train.txt')\n",
    "y_train=np.loadtxt('labels_train.txt')\n",
    "\n",
    "X_test=np.loadtxt('data_test.txt')\n",
    "y_test=np.loadtxt('labels_test.txt')\n",
    "print(X_train.shape, X_test.shape)"
   ]
  },
  {
   "cell_type": "markdown",
   "metadata": {},
   "source": [
    "Se tienen 560 muestras y 30 características extraidas de imagenes de lunares http://archive.ics.uci.edu/ml/machine-learning-databases/breast-cancer-wisconsin/wdbc.names\n",
    "\n",
    "---\n",
    "Las características incluyen\n",
    "\n",
    "\n",
    "1. Radio del lunar\n",
    "+ Textura\n",
    "+ Perimetro\n",
    "+ Area\n",
    "+ Forma\n",
    "+ Compactación\n",
    "+ Concavidad\n",
    "+ Puntos de concavidad\n",
    "+ Simetria\n",
    "+ Dimensión Fractal\n",
    "\n",
    "La media, desviación, estándar, y máximo de estos 10 descritpreos es calculada, formando las 30 características\n",
    "    \n",
    "\n",
    "\n"
   ]
  },
  {
   "cell_type": "code",
   "execution_count": null,
   "metadata": {
    "collapsed": true
   },
   "outputs": [],
   "source": []
  }
 ],
 "metadata": {
  "kernelspec": {
   "display_name": "Python 3",
   "language": "python",
   "name": "python3"
  },
  "language_info": {
   "codemirror_mode": {
    "name": "ipython",
    "version": 3
   },
   "file_extension": ".py",
   "mimetype": "text/x-python",
   "name": "python",
   "nbconvert_exporter": "python",
   "pygments_lexer": "ipython3",
   "version": "3.5.2"
  }
 },
 "nbformat": 4,
 "nbformat_minor": 2
}
